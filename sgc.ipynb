{
 "cells": [
  {
   "cell_type": "markdown",
   "metadata": {},
   "source": [
    "## Speaker Gender Classification"
   ]
  },
  {
   "cell_type": "markdown",
   "metadata": {},
   "source": [
    "**Table of content**"
   ]
  },
  {
   "cell_type": "markdown",
   "metadata": {},
   "source": [
    "* [Data preparation](#I)\n",
    "* [Exploratory Data Analysis](#II)\n",
    "* [Classification models](#III)\n",
    "* [Results](#IV)\n",
    "* [Discussion](#V)"
   ]
  },
  {
   "cell_type": "code",
   "execution_count": 1,
   "metadata": {},
   "outputs": [],
   "source": [
    "import os\n",
    "import soundfile\n",
    "import glob\n",
    "from tqdm import tqdm\n",
    "\n",
    "import numpy as np\n",
    "import pandas as pd\n",
    "import matplotlib.pyplot as plt\n",
    "import seaborn as sns\n",
    "import python_speech_features as mfcc\n",
    "\n",
    "import warnings\n",
    "warnings.filterwarnings(\"ignore\")"
   ]
  },
  {
   "cell_type": "markdown",
   "metadata": {},
   "source": [
    "<a id='I'></a>\n",
    "### 1. Data preparation"
   ]
  },
  {
   "cell_type": "markdown",
   "metadata": {},
   "source": [
    "In this section, we load and prepare our dataset which consists of several audio speech samples. We also map each signal to the gender of the speaker"
   ]
  },
  {
   "cell_type": "markdown",
   "metadata": {},
   "source": [
    "**Obtain _speaker-id <-> gender_ mapping**"
   ]
  },
  {
   "cell_type": "code",
   "execution_count": 2,
   "metadata": {},
   "outputs": [],
   "source": [
    "id_gender = pd.read_csv('id_gender.csv')"
   ]
  },
  {
   "cell_type": "code",
   "execution_count": 3,
   "metadata": {},
   "outputs": [
    {
     "data": {
      "text/html": [
       "<div>\n",
       "<style scoped>\n",
       "    .dataframe tbody tr th:only-of-type {\n",
       "        vertical-align: middle;\n",
       "    }\n",
       "\n",
       "    .dataframe tbody tr th {\n",
       "        vertical-align: top;\n",
       "    }\n",
       "\n",
       "    .dataframe thead th {\n",
       "        text-align: right;\n",
       "    }\n",
       "</style>\n",
       "<table border=\"1\" class=\"dataframe\">\n",
       "  <thead>\n",
       "    <tr style=\"text-align: right;\">\n",
       "      <th></th>\n",
       "      <th>ID</th>\n",
       "      <th>SEX</th>\n",
       "      <th>SUBSET</th>\n",
       "      <th>MINUTES</th>\n",
       "      <th>NAME</th>\n",
       "    </tr>\n",
       "  </thead>\n",
       "  <tbody>\n",
       "    <tr>\n",
       "      <th>0</th>\n",
       "      <td>14</td>\n",
       "      <td>F</td>\n",
       "      <td>train-clean-360</td>\n",
       "      <td>25.03</td>\n",
       "      <td>Kristin LeMoine</td>\n",
       "    </tr>\n",
       "    <tr>\n",
       "      <th>1</th>\n",
       "      <td>16</td>\n",
       "      <td>F</td>\n",
       "      <td>train-clean-360</td>\n",
       "      <td>25.11</td>\n",
       "      <td>Alys AtteWater</td>\n",
       "    </tr>\n",
       "    <tr>\n",
       "      <th>2</th>\n",
       "      <td>17</td>\n",
       "      <td>M</td>\n",
       "      <td>train-clean-360</td>\n",
       "      <td>25.04</td>\n",
       "      <td>Gord Mackenzie</td>\n",
       "    </tr>\n",
       "    <tr>\n",
       "      <th>3</th>\n",
       "      <td>19</td>\n",
       "      <td>F</td>\n",
       "      <td>train-clean-100</td>\n",
       "      <td>25.19</td>\n",
       "      <td>Kara Shallenberg</td>\n",
       "    </tr>\n",
       "    <tr>\n",
       "      <th>4</th>\n",
       "      <td>20</td>\n",
       "      <td>F</td>\n",
       "      <td>train-other-500</td>\n",
       "      <td>30.07</td>\n",
       "      <td>Gesine</td>\n",
       "    </tr>\n",
       "  </tbody>\n",
       "</table>\n",
       "</div>"
      ],
      "text/plain": [
       "   ID  SEX              SUBSET  MINUTES               NAME\n",
       "0  14   F    train-clean-360      25.03    Kristin LeMoine\n",
       "1  16   F    train-clean-360      25.11     Alys AtteWater\n",
       "2  17   M    train-clean-360      25.04     Gord Mackenzie\n",
       "3  19   F    train-clean-100      25.19   Kara Shallenberg\n",
       "4  20   F    train-other-500      30.07             Gesine"
      ]
     },
     "execution_count": 3,
     "metadata": {},
     "output_type": "execute_result"
    }
   ],
   "source": [
    "id_gender.head()"
   ]
  },
  {
   "cell_type": "code",
   "execution_count": 4,
   "metadata": {},
   "outputs": [
    {
     "data": {
      "text/plain": [
       "array([' train-clean-360  ', ' train-clean-100  ', ' train-other-500  ',\n",
       "       ' test-clean       ', ' dev-clean        ', ' dev-other        ',\n",
       "       ' test-other       '], dtype=object)"
      ]
     },
     "execution_count": 4,
     "metadata": {},
     "output_type": "execute_result"
    }
   ],
   "source": [
    "id_gender['SUBSET'].unique()"
   ]
  },
  {
   "cell_type": "markdown",
   "metadata": {},
   "source": [
    "We are only interested in the `ID` and `SEX` columns, for which `SUBSET = dev-clean`, since this is the dataset we are using."
   ]
  },
  {
   "cell_type": "code",
   "execution_count": 5,
   "metadata": {},
   "outputs": [],
   "source": [
    "id_gender_mapping = id_gender[ id_gender['SUBSET']==' dev-clean        ' ][['ID', 'SEX']]"
   ]
  },
  {
   "cell_type": "code",
   "execution_count": 6,
   "metadata": {},
   "outputs": [
    {
     "data": {
      "text/html": [
       "<div>\n",
       "<style scoped>\n",
       "    .dataframe tbody tr th:only-of-type {\n",
       "        vertical-align: middle;\n",
       "    }\n",
       "\n",
       "    .dataframe tbody tr th {\n",
       "        vertical-align: top;\n",
       "    }\n",
       "\n",
       "    .dataframe thead th {\n",
       "        text-align: right;\n",
       "    }\n",
       "</style>\n",
       "<table border=\"1\" class=\"dataframe\">\n",
       "  <thead>\n",
       "    <tr style=\"text-align: right;\">\n",
       "      <th></th>\n",
       "      <th>ID</th>\n",
       "      <th>SEX</th>\n",
       "    </tr>\n",
       "  </thead>\n",
       "  <tbody>\n",
       "    <tr>\n",
       "      <th>46</th>\n",
       "      <td>84</td>\n",
       "      <td>F</td>\n",
       "    </tr>\n",
       "    <tr>\n",
       "      <th>93</th>\n",
       "      <td>174</td>\n",
       "      <td>M</td>\n",
       "    </tr>\n",
       "    <tr>\n",
       "      <th>135</th>\n",
       "      <td>251</td>\n",
       "      <td>M</td>\n",
       "    </tr>\n",
       "    <tr>\n",
       "      <th>200</th>\n",
       "      <td>422</td>\n",
       "      <td>M</td>\n",
       "    </tr>\n",
       "    <tr>\n",
       "      <th>279</th>\n",
       "      <td>652</td>\n",
       "      <td>M</td>\n",
       "    </tr>\n",
       "  </tbody>\n",
       "</table>\n",
       "</div>"
      ],
      "text/plain": [
       "      ID  SEX\n",
       "46    84   F \n",
       "93   174   M \n",
       "135  251   M \n",
       "200  422   M \n",
       "279  652   M "
      ]
     },
     "execution_count": 6,
     "metadata": {},
     "output_type": "execute_result"
    }
   ],
   "source": [
    "id_gender_mapping.head()"
   ]
  },
  {
   "cell_type": "code",
   "execution_count": 7,
   "metadata": {},
   "outputs": [
    {
     "data": {
      "text/plain": [
       " F     20\n",
       " M     20\n",
       "Name: SEX, dtype: int64"
      ]
     },
     "execution_count": 7,
     "metadata": {},
     "output_type": "execute_result"
    }
   ],
   "source": [
    "id_gender_mapping['SEX'].value_counts()"
   ]
  },
  {
   "cell_type": "markdown",
   "metadata": {},
   "source": [
    "**40 different speakers**"
   ]
  },
  {
   "cell_type": "markdown",
   "metadata": {},
   "source": [
    "*Note the that the classes are perfectly balanced, accuracy can eventually be used as a metric to evalutate the gender classification models*"
   ]
  },
  {
   "cell_type": "code",
   "execution_count": 8,
   "metadata": {},
   "outputs": [
    {
     "data": {
      "text/plain": [
       "array([' F ', ' M '], dtype=object)"
      ]
     },
     "execution_count": 8,
     "metadata": {},
     "output_type": "execute_result"
    }
   ],
   "source": [
    "id_gender_mapping['SEX'].unique()"
   ]
  },
  {
   "cell_type": "markdown",
   "metadata": {},
   "source": [
    "Transform gender to integer labels; M to 1 and F to 0 "
   ]
  },
  {
   "cell_type": "code",
   "execution_count": 9,
   "metadata": {},
   "outputs": [],
   "source": [
    "id_gender_mapping['SEX'] = id_gender_mapping['SEX'].apply(lambda x: 1 if x == ' M ' else 0)"
   ]
  },
  {
   "cell_type": "code",
   "execution_count": 10,
   "metadata": {},
   "outputs": [
    {
     "data": {
      "text/html": [
       "<div>\n",
       "<style scoped>\n",
       "    .dataframe tbody tr th:only-of-type {\n",
       "        vertical-align: middle;\n",
       "    }\n",
       "\n",
       "    .dataframe tbody tr th {\n",
       "        vertical-align: top;\n",
       "    }\n",
       "\n",
       "    .dataframe thead th {\n",
       "        text-align: right;\n",
       "    }\n",
       "</style>\n",
       "<table border=\"1\" class=\"dataframe\">\n",
       "  <thead>\n",
       "    <tr style=\"text-align: right;\">\n",
       "      <th></th>\n",
       "      <th>ID</th>\n",
       "      <th>SEX</th>\n",
       "    </tr>\n",
       "  </thead>\n",
       "  <tbody>\n",
       "    <tr>\n",
       "      <th>46</th>\n",
       "      <td>84</td>\n",
       "      <td>0</td>\n",
       "    </tr>\n",
       "    <tr>\n",
       "      <th>93</th>\n",
       "      <td>174</td>\n",
       "      <td>1</td>\n",
       "    </tr>\n",
       "    <tr>\n",
       "      <th>135</th>\n",
       "      <td>251</td>\n",
       "      <td>1</td>\n",
       "    </tr>\n",
       "    <tr>\n",
       "      <th>200</th>\n",
       "      <td>422</td>\n",
       "      <td>1</td>\n",
       "    </tr>\n",
       "    <tr>\n",
       "      <th>279</th>\n",
       "      <td>652</td>\n",
       "      <td>1</td>\n",
       "    </tr>\n",
       "  </tbody>\n",
       "</table>\n",
       "</div>"
      ],
      "text/plain": [
       "      ID  SEX\n",
       "46    84    0\n",
       "93   174    1\n",
       "135  251    1\n",
       "200  422    1\n",
       "279  652    1"
      ]
     },
     "execution_count": 10,
     "metadata": {},
     "output_type": "execute_result"
    }
   ],
   "source": [
    "id_gender_mapping.head()"
   ]
  },
  {
   "cell_type": "markdown",
   "metadata": {},
   "source": [
    "**Collect audio samples and compute MFCC features**"
   ]
  },
  {
   "cell_type": "markdown",
   "metadata": {},
   "source": [
    "We will use the `python_speech_features` library to extract the MFCC features. <br>\n",
    "Let's define a function that compute such features."
   ]
  },
  {
   "cell_type": "code",
   "execution_count": 11,
   "metadata": {},
   "outputs": [],
   "source": [
    "def compute_MFCC(signal, fs, numcep=13): \n",
    "    '''\n",
    "    Compute MFCC features of an audio signal\n",
    "    \n",
    "    Parameters\n",
    "    ----------\n",
    "    audio : audio sample from a speaker \n",
    "    fs : sampling frequency\n",
    "    \n",
    "    '''\n",
    "    features = mfcc.mfcc(signal, fs, 0.025, 0.01, numcep, appendEnergy = False)\n",
    "    features = np.mean(features, axis=0).reshape(1,-1)\n",
    "    return features"
   ]
  },
  {
   "cell_type": "code",
   "execution_count": 12,
   "metadata": {},
   "outputs": [],
   "source": [
    "path_to_audio_files = 'LibriSpeech/dev-clean/'"
   ]
  },
  {
   "cell_type": "code",
   "execution_count": 13,
   "metadata": {},
   "outputs": [
    {
     "name": "stderr",
     "output_type": "stream",
     "text": [
      "2937it [01:07, 43.55it/s]\n"
     ]
    }
   ],
   "source": [
    "# Create dataset where each row represents the MFCC features of a frame of 25 milliseconds \n",
    "dataset = np.ndarray(shape=(0,13))\n",
    "gender_labels = np.ndarray(shape=(0,1))\n",
    "files = []\n",
    "\n",
    "# Do a recursive walk on all the audio files\n",
    "for filename in tqdm(glob.iglob(path_to_audio_files + '**/*', recursive=True)):\n",
    "    if filename.endswith('.flac'):\n",
    "        files.append(filename)\n",
    "        # Read audio signal and compute MFCC features\n",
    "        sig, fs = soundfile.read(filename)\n",
    "        features = compute_MFCC(sig, fs)\n",
    "        \n",
    "        # Append MFCC features to our dataset and update accordingly the gender label for all the new frames\n",
    "        dataset = np.append(dataset, features, axis=0)\n",
    "        speaker_id = filename.split('/dev-clean/')[1].split('/')[0]\n",
    "        gender = id_gender_mapping[ id_gender_mapping['ID'] == int(speaker_id) ]['SEX'].iloc[0]\n",
    "        gender_labels= np.append(gender_labels, np.array(gender).reshape(-1,1), axis=0)\n"
   ]
  },
  {
   "cell_type": "markdown",
   "metadata": {},
   "source": [
    "<a id='II'></a>\n",
    "### 2. Exploratory Data Analysis"
   ]
  },
  {
   "cell_type": "markdown",
   "metadata": {},
   "source": [
    "We plot the distribution of our features and look for outliers and skewed distribution "
   ]
  },
  {
   "cell_type": "code",
   "execution_count": 14,
   "metadata": {},
   "outputs": [],
   "source": [
    "data = pd.DataFrame(dataset)"
   ]
  },
  {
   "cell_type": "code",
   "execution_count": 15,
   "metadata": {},
   "outputs": [
    {
     "data": {
      "text/html": [
       "<div>\n",
       "<style scoped>\n",
       "    .dataframe tbody tr th:only-of-type {\n",
       "        vertical-align: middle;\n",
       "    }\n",
       "\n",
       "    .dataframe tbody tr th {\n",
       "        vertical-align: top;\n",
       "    }\n",
       "\n",
       "    .dataframe thead th {\n",
       "        text-align: right;\n",
       "    }\n",
       "</style>\n",
       "<table border=\"1\" class=\"dataframe\">\n",
       "  <thead>\n",
       "    <tr style=\"text-align: right;\">\n",
       "      <th></th>\n",
       "      <th>0</th>\n",
       "      <th>1</th>\n",
       "      <th>2</th>\n",
       "      <th>3</th>\n",
       "      <th>4</th>\n",
       "      <th>5</th>\n",
       "      <th>6</th>\n",
       "      <th>7</th>\n",
       "      <th>8</th>\n",
       "      <th>9</th>\n",
       "      <th>10</th>\n",
       "      <th>11</th>\n",
       "      <th>12</th>\n",
       "    </tr>\n",
       "  </thead>\n",
       "  <tbody>\n",
       "    <tr>\n",
       "      <th>0</th>\n",
       "      <td>-49.125403</td>\n",
       "      <td>-10.091915</td>\n",
       "      <td>9.374611</td>\n",
       "      <td>-10.275918</td>\n",
       "      <td>-2.644703</td>\n",
       "      <td>-6.208837</td>\n",
       "      <td>-1.778341</td>\n",
       "      <td>-2.062584</td>\n",
       "      <td>1.374386</td>\n",
       "      <td>-1.307706</td>\n",
       "      <td>6.341380</td>\n",
       "      <td>-1.892872</td>\n",
       "      <td>-5.731740</td>\n",
       "    </tr>\n",
       "    <tr>\n",
       "      <th>1</th>\n",
       "      <td>-47.963830</td>\n",
       "      <td>-8.454820</td>\n",
       "      <td>7.956802</td>\n",
       "      <td>-9.742774</td>\n",
       "      <td>5.220691</td>\n",
       "      <td>-5.988113</td>\n",
       "      <td>-8.208070</td>\n",
       "      <td>-4.825172</td>\n",
       "      <td>2.080790</td>\n",
       "      <td>1.548718</td>\n",
       "      <td>2.757104</td>\n",
       "      <td>-3.491100</td>\n",
       "      <td>-4.118049</td>\n",
       "    </tr>\n",
       "    <tr>\n",
       "      <th>2</th>\n",
       "      <td>-47.424011</td>\n",
       "      <td>-12.474357</td>\n",
       "      <td>9.821865</td>\n",
       "      <td>-7.298854</td>\n",
       "      <td>2.101969</td>\n",
       "      <td>-8.395803</td>\n",
       "      <td>-6.894354</td>\n",
       "      <td>-4.336211</td>\n",
       "      <td>-2.189679</td>\n",
       "      <td>-0.245318</td>\n",
       "      <td>2.402032</td>\n",
       "      <td>-1.897523</td>\n",
       "      <td>-5.324680</td>\n",
       "    </tr>\n",
       "    <tr>\n",
       "      <th>3</th>\n",
       "      <td>-48.870806</td>\n",
       "      <td>-8.927204</td>\n",
       "      <td>6.481015</td>\n",
       "      <td>-10.442381</td>\n",
       "      <td>5.132314</td>\n",
       "      <td>-9.987909</td>\n",
       "      <td>-8.287478</td>\n",
       "      <td>-5.194423</td>\n",
       "      <td>3.776423</td>\n",
       "      <td>-1.489403</td>\n",
       "      <td>2.437860</td>\n",
       "      <td>0.011792</td>\n",
       "      <td>-4.288302</td>\n",
       "    </tr>\n",
       "    <tr>\n",
       "      <th>4</th>\n",
       "      <td>-49.199102</td>\n",
       "      <td>-11.581737</td>\n",
       "      <td>8.645419</td>\n",
       "      <td>-10.532126</td>\n",
       "      <td>2.749861</td>\n",
       "      <td>-5.947502</td>\n",
       "      <td>-8.672104</td>\n",
       "      <td>-1.572971</td>\n",
       "      <td>0.717981</td>\n",
       "      <td>0.838450</td>\n",
       "      <td>-0.148657</td>\n",
       "      <td>-3.150131</td>\n",
       "      <td>-5.015686</td>\n",
       "    </tr>\n",
       "    <tr>\n",
       "      <th>5</th>\n",
       "      <td>-48.814983</td>\n",
       "      <td>-11.374386</td>\n",
       "      <td>8.889162</td>\n",
       "      <td>-10.260627</td>\n",
       "      <td>4.602313</td>\n",
       "      <td>-6.330814</td>\n",
       "      <td>-8.456474</td>\n",
       "      <td>-0.341044</td>\n",
       "      <td>-1.366233</td>\n",
       "      <td>3.637368</td>\n",
       "      <td>3.168515</td>\n",
       "      <td>-2.757039</td>\n",
       "      <td>-6.173920</td>\n",
       "    </tr>\n",
       "    <tr>\n",
       "      <th>6</th>\n",
       "      <td>-51.009535</td>\n",
       "      <td>-11.068821</td>\n",
       "      <td>10.605551</td>\n",
       "      <td>-7.383021</td>\n",
       "      <td>1.732760</td>\n",
       "      <td>-7.116057</td>\n",
       "      <td>-2.787882</td>\n",
       "      <td>-5.870913</td>\n",
       "      <td>0.814872</td>\n",
       "      <td>-2.097247</td>\n",
       "      <td>3.154060</td>\n",
       "      <td>1.782600</td>\n",
       "      <td>-4.304279</td>\n",
       "    </tr>\n",
       "    <tr>\n",
       "      <th>7</th>\n",
       "      <td>-51.803200</td>\n",
       "      <td>-10.951631</td>\n",
       "      <td>5.480317</td>\n",
       "      <td>-6.842229</td>\n",
       "      <td>2.203396</td>\n",
       "      <td>-9.655953</td>\n",
       "      <td>-5.019144</td>\n",
       "      <td>2.190848</td>\n",
       "      <td>2.885147</td>\n",
       "      <td>-2.032022</td>\n",
       "      <td>2.257996</td>\n",
       "      <td>-2.149336</td>\n",
       "      <td>-5.255550</td>\n",
       "    </tr>\n",
       "    <tr>\n",
       "      <th>8</th>\n",
       "      <td>-53.965434</td>\n",
       "      <td>-13.391438</td>\n",
       "      <td>4.930931</td>\n",
       "      <td>-7.390614</td>\n",
       "      <td>3.937692</td>\n",
       "      <td>-7.008029</td>\n",
       "      <td>-4.139418</td>\n",
       "      <td>0.564412</td>\n",
       "      <td>3.022716</td>\n",
       "      <td>2.789478</td>\n",
       "      <td>1.193799</td>\n",
       "      <td>-2.924420</td>\n",
       "      <td>-5.877539</td>\n",
       "    </tr>\n",
       "    <tr>\n",
       "      <th>9</th>\n",
       "      <td>-48.279649</td>\n",
       "      <td>-9.885267</td>\n",
       "      <td>7.829816</td>\n",
       "      <td>-5.148685</td>\n",
       "      <td>1.869652</td>\n",
       "      <td>-8.132949</td>\n",
       "      <td>-6.969120</td>\n",
       "      <td>-2.935658</td>\n",
       "      <td>1.492169</td>\n",
       "      <td>-1.030416</td>\n",
       "      <td>2.001677</td>\n",
       "      <td>1.242098</td>\n",
       "      <td>-6.839486</td>\n",
       "    </tr>\n",
       "  </tbody>\n",
       "</table>\n",
       "</div>"
      ],
      "text/plain": [
       "          0          1          2          3         4         5         6   \\\n",
       "0 -49.125403 -10.091915   9.374611 -10.275918 -2.644703 -6.208837 -1.778341   \n",
       "1 -47.963830  -8.454820   7.956802  -9.742774  5.220691 -5.988113 -8.208070   \n",
       "2 -47.424011 -12.474357   9.821865  -7.298854  2.101969 -8.395803 -6.894354   \n",
       "3 -48.870806  -8.927204   6.481015 -10.442381  5.132314 -9.987909 -8.287478   \n",
       "4 -49.199102 -11.581737   8.645419 -10.532126  2.749861 -5.947502 -8.672104   \n",
       "5 -48.814983 -11.374386   8.889162 -10.260627  4.602313 -6.330814 -8.456474   \n",
       "6 -51.009535 -11.068821  10.605551  -7.383021  1.732760 -7.116057 -2.787882   \n",
       "7 -51.803200 -10.951631   5.480317  -6.842229  2.203396 -9.655953 -5.019144   \n",
       "8 -53.965434 -13.391438   4.930931  -7.390614  3.937692 -7.008029 -4.139418   \n",
       "9 -48.279649  -9.885267   7.829816  -5.148685  1.869652 -8.132949 -6.969120   \n",
       "\n",
       "         7         8         9         10        11        12  \n",
       "0 -2.062584  1.374386 -1.307706  6.341380 -1.892872 -5.731740  \n",
       "1 -4.825172  2.080790  1.548718  2.757104 -3.491100 -4.118049  \n",
       "2 -4.336211 -2.189679 -0.245318  2.402032 -1.897523 -5.324680  \n",
       "3 -5.194423  3.776423 -1.489403  2.437860  0.011792 -4.288302  \n",
       "4 -1.572971  0.717981  0.838450 -0.148657 -3.150131 -5.015686  \n",
       "5 -0.341044 -1.366233  3.637368  3.168515 -2.757039 -6.173920  \n",
       "6 -5.870913  0.814872 -2.097247  3.154060  1.782600 -4.304279  \n",
       "7  2.190848  2.885147 -2.032022  2.257996 -2.149336 -5.255550  \n",
       "8  0.564412  3.022716  2.789478  1.193799 -2.924420 -5.877539  \n",
       "9 -2.935658  1.492169 -1.030416  2.001677  1.242098 -6.839486  "
      ]
     },
     "execution_count": 15,
     "metadata": {},
     "output_type": "execute_result"
    }
   ],
   "source": [
    "data.head(10)"
   ]
  },
  {
   "cell_type": "code",
   "execution_count": 16,
   "metadata": {},
   "outputs": [
    {
     "data": {
      "image/png": "[encoded data removed]",
      "text/plain": [
       "<matplotlib.figure.Figure at 0x1c17875d68>"
      ]
     },
     "metadata": {},
     "output_type": "display_data"
    }
   ],
   "source": [
    "h = data.hist(figsize=(12,10))"
   ]
  },
  {
   "cell_type": "markdown",
   "metadata": {},
   "source": [
    "_We observe no skewed distribution nor outliers_"
   ]
  },
  {
   "cell_type": "markdown",
   "metadata": {},
   "source": [
    "**Diagonal correlation matrix**"
   ]
  },
  {
   "cell_type": "code",
   "execution_count": 17,
   "metadata": {},
   "outputs": [
    {
     "data": {
      "image/png": "[encoded data removed]",
      "text/plain": [
       "<matplotlib.figure.Figure at 0x1c17f2deb8>"
      ]
     },
     "metadata": {},
     "output_type": "display_data"
    }
   ],
   "source": [
    "corr = data.corr()\n",
    "\n",
    "mask = np.zeros_like(corr, dtype=np.bool)\n",
    "mask[np.triu_indices_from(mask)] = True\n",
    "\n",
    "f, ax = plt.subplots(figsize=(11, 9))\n",
    "cmap = sns.diverging_palette(220, 10, as_cmap=True)\n",
    "\n",
    "h = sns.heatmap(corr, mask=mask, cmap=cmap, vmax=.3, center=0,\n",
    "            square=True, linewidths=.5, cbar_kws={\"shrink\": .5})"
   ]
  },
  {
   "cell_type": "markdown",
   "metadata": {},
   "source": [
    "We can observe that the MFCC featues aren't highly correlated between each other since the correlation varies between -0.3 and 0.3."
   ]
  },
  {
   "cell_type": "code",
   "execution_count": 18,
   "metadata": {},
   "outputs": [
    {
     "data": {
      "text/html": [
       "<div>\n",
       "<style scoped>\n",
       "    .dataframe tbody tr th:only-of-type {\n",
       "        vertical-align: middle;\n",
       "    }\n",
       "\n",
       "    .dataframe tbody tr th {\n",
       "        vertical-align: top;\n",
       "    }\n",
       "\n",
       "    .dataframe thead th {\n",
       "        text-align: right;\n",
       "    }\n",
       "</style>\n",
       "<table border=\"1\" class=\"dataframe\">\n",
       "  <thead>\n",
       "    <tr style=\"text-align: right;\">\n",
       "      <th></th>\n",
       "      <th>0</th>\n",
       "      <th>1</th>\n",
       "      <th>2</th>\n",
       "      <th>3</th>\n",
       "      <th>4</th>\n",
       "      <th>5</th>\n",
       "      <th>6</th>\n",
       "      <th>7</th>\n",
       "      <th>8</th>\n",
       "      <th>9</th>\n",
       "      <th>10</th>\n",
       "      <th>11</th>\n",
       "      <th>12</th>\n",
       "    </tr>\n",
       "  </thead>\n",
       "  <tbody>\n",
       "    <tr>\n",
       "      <th>count</th>\n",
       "      <td>2703.000000</td>\n",
       "      <td>2703.000000</td>\n",
       "      <td>2703.000000</td>\n",
       "      <td>2703.000000</td>\n",
       "      <td>2703.000000</td>\n",
       "      <td>2703.000000</td>\n",
       "      <td>2703.000000</td>\n",
       "      <td>2703.000000</td>\n",
       "      <td>2703.000000</td>\n",
       "      <td>2703.000000</td>\n",
       "      <td>2703.000000</td>\n",
       "      <td>2703.000000</td>\n",
       "      <td>2703.000000</td>\n",
       "    </tr>\n",
       "    <tr>\n",
       "      <th>mean</th>\n",
       "      <td>-52.721955</td>\n",
       "      <td>-4.292902</td>\n",
       "      <td>-6.196046</td>\n",
       "      <td>1.708362</td>\n",
       "      <td>-9.396211</td>\n",
       "      <td>-6.736553</td>\n",
       "      <td>-8.775772</td>\n",
       "      <td>-5.819784</td>\n",
       "      <td>-0.190100</td>\n",
       "      <td>-1.845782</td>\n",
       "      <td>-3.707681</td>\n",
       "      <td>-2.959319</td>\n",
       "      <td>-3.890427</td>\n",
       "    </tr>\n",
       "    <tr>\n",
       "      <th>std</th>\n",
       "      <td>5.817396</td>\n",
       "      <td>5.447871</td>\n",
       "      <td>7.980351</td>\n",
       "      <td>6.113372</td>\n",
       "      <td>7.159874</td>\n",
       "      <td>7.763244</td>\n",
       "      <td>6.952503</td>\n",
       "      <td>6.380153</td>\n",
       "      <td>5.620162</td>\n",
       "      <td>4.602001</td>\n",
       "      <td>5.270595</td>\n",
       "      <td>4.425160</td>\n",
       "      <td>4.405548</td>\n",
       "    </tr>\n",
       "    <tr>\n",
       "      <th>min</th>\n",
       "      <td>-89.771212</td>\n",
       "      <td>-21.211687</td>\n",
       "      <td>-34.034999</td>\n",
       "      <td>-17.771753</td>\n",
       "      <td>-33.343967</td>\n",
       "      <td>-29.458764</td>\n",
       "      <td>-31.885599</td>\n",
       "      <td>-29.827393</td>\n",
       "      <td>-18.162847</td>\n",
       "      <td>-19.460987</td>\n",
       "      <td>-23.268991</td>\n",
       "      <td>-15.738485</td>\n",
       "      <td>-19.077982</td>\n",
       "    </tr>\n",
       "    <tr>\n",
       "      <th>25%</th>\n",
       "      <td>-55.964016</td>\n",
       "      <td>-7.690567</td>\n",
       "      <td>-11.041131</td>\n",
       "      <td>-2.728162</td>\n",
       "      <td>-13.751970</td>\n",
       "      <td>-12.143940</td>\n",
       "      <td>-12.681330</td>\n",
       "      <td>-8.755979</td>\n",
       "      <td>-4.136205</td>\n",
       "      <td>-4.332543</td>\n",
       "      <td>-7.443887</td>\n",
       "      <td>-5.894402</td>\n",
       "      <td>-6.650850</td>\n",
       "    </tr>\n",
       "    <tr>\n",
       "      <th>50%</th>\n",
       "      <td>-52.364871</td>\n",
       "      <td>-3.971205</td>\n",
       "      <td>-6.080278</td>\n",
       "      <td>1.892077</td>\n",
       "      <td>-9.668392</td>\n",
       "      <td>-6.462809</td>\n",
       "      <td>-8.257554</td>\n",
       "      <td>-5.001823</td>\n",
       "      <td>-0.561427</td>\n",
       "      <td>-1.605278</td>\n",
       "      <td>-3.518618</td>\n",
       "      <td>-3.018763</td>\n",
       "      <td>-3.748618</td>\n",
       "    </tr>\n",
       "    <tr>\n",
       "      <th>75%</th>\n",
       "      <td>-49.100194</td>\n",
       "      <td>-0.925524</td>\n",
       "      <td>-0.806583</td>\n",
       "      <td>6.132425</td>\n",
       "      <td>-4.641206</td>\n",
       "      <td>-0.730575</td>\n",
       "      <td>-4.109227</td>\n",
       "      <td>-1.979423</td>\n",
       "      <td>3.923777</td>\n",
       "      <td>1.066446</td>\n",
       "      <td>0.316355</td>\n",
       "      <td>0.095166</td>\n",
       "      <td>-0.958700</td>\n",
       "    </tr>\n",
       "    <tr>\n",
       "      <th>max</th>\n",
       "      <td>-30.158965</td>\n",
       "      <td>15.924678</td>\n",
       "      <td>15.630593</td>\n",
       "      <td>19.817739</td>\n",
       "      <td>12.658457</td>\n",
       "      <td>17.995143</td>\n",
       "      <td>12.717234</td>\n",
       "      <td>11.518480</td>\n",
       "      <td>18.637855</td>\n",
       "      <td>13.351553</td>\n",
       "      <td>9.566763</td>\n",
       "      <td>10.678672</td>\n",
       "      <td>9.625411</td>\n",
       "    </tr>\n",
       "  </tbody>\n",
       "</table>\n",
       "</div>"
      ],
      "text/plain": [
       "                0            1            2            3            4   \\\n",
       "count  2703.000000  2703.000000  2703.000000  2703.000000  2703.000000   \n",
       "mean    -52.721955    -4.292902    -6.196046     1.708362    -9.396211   \n",
       "std       5.817396     5.447871     7.980351     6.113372     7.159874   \n",
       "min     -89.771212   -21.211687   -34.034999   -17.771753   -33.343967   \n",
       "25%     -55.964016    -7.690567   -11.041131    -2.728162   -13.751970   \n",
       "50%     -52.364871    -3.971205    -6.080278     1.892077    -9.668392   \n",
       "75%     -49.100194    -0.925524    -0.806583     6.132425    -4.641206   \n",
       "max     -30.158965    15.924678    15.630593    19.817739    12.658457   \n",
       "\n",
       "                5            6            7            8            9   \\\n",
       "count  2703.000000  2703.000000  2703.000000  2703.000000  2703.000000   \n",
       "mean     -6.736553    -8.775772    -5.819784    -0.190100    -1.845782   \n",
       "std       7.763244     6.952503     6.380153     5.620162     4.602001   \n",
       "min     -29.458764   -31.885599   -29.827393   -18.162847   -19.460987   \n",
       "25%     -12.143940   -12.681330    -8.755979    -4.136205    -4.332543   \n",
       "50%      -6.462809    -8.257554    -5.001823    -0.561427    -1.605278   \n",
       "75%      -0.730575    -4.109227    -1.979423     3.923777     1.066446   \n",
       "max      17.995143    12.717234    11.518480    18.637855    13.351553   \n",
       "\n",
       "                10           11           12  \n",
       "count  2703.000000  2703.000000  2703.000000  \n",
       "mean     -3.707681    -2.959319    -3.890427  \n",
       "std       5.270595     4.425160     4.405548  \n",
       "min     -23.268991   -15.738485   -19.077982  \n",
       "25%      -7.443887    -5.894402    -6.650850  \n",
       "50%      -3.518618    -3.018763    -3.748618  \n",
       "75%       0.316355     0.095166    -0.958700  \n",
       "max       9.566763    10.678672     9.625411  "
      ]
     },
     "execution_count": 18,
     "metadata": {},
     "output_type": "execute_result"
    }
   ],
   "source": [
    "data.describe()"
   ]
  },
  {
   "cell_type": "code",
   "execution_count": 19,
   "metadata": {},
   "outputs": [
    {
     "data": {
      "text/plain": [
       "0     float64\n",
       "1     float64\n",
       "2     float64\n",
       "3     float64\n",
       "4     float64\n",
       "5     float64\n",
       "6     float64\n",
       "7     float64\n",
       "8     float64\n",
       "9     float64\n",
       "10    float64\n",
       "11    float64\n",
       "12    float64\n",
       "dtype: object"
      ]
     },
     "execution_count": 19,
     "metadata": {},
     "output_type": "execute_result"
    }
   ],
   "source": [
    "data.dtypes"
   ]
  },
  {
   "cell_type": "markdown",
   "metadata": {},
   "source": [
    "All features are continuous, thus there is no need to perform one hot encoding, nor feature hashing."
   ]
  },
  {
   "cell_type": "code",
   "execution_count": 20,
   "metadata": {},
   "outputs": [
    {
     "data": {
      "text/plain": [
       "0     0\n",
       "1     0\n",
       "2     0\n",
       "3     0\n",
       "4     0\n",
       "5     0\n",
       "6     0\n",
       "7     0\n",
       "8     0\n",
       "9     0\n",
       "10    0\n",
       "11    0\n",
       "12    0\n",
       "dtype: int64"
      ]
     },
     "execution_count": 20,
     "metadata": {},
     "output_type": "execute_result"
    }
   ],
   "source": [
    "data.isnull().sum()"
   ]
  },
  {
   "cell_type": "markdown",
   "metadata": {},
   "source": [
    "There are no missing values in our dataset "
   ]
  },
  {
   "cell_type": "markdown",
   "metadata": {},
   "source": [
    "<a id='III'></a>\n",
    "### 3. Classification models"
   ]
  },
  {
   "cell_type": "markdown",
   "metadata": {},
   "source": [
    "We evalutate in this section several classification models. We will use **accuracy** as a performance metric, since the classes (Male/Female) are balanced."
   ]
  },
  {
   "cell_type": "markdown",
   "metadata": {},
   "source": [
    "* [Gaussian Naive Bayes](#1)\n",
    "* [Gradient Boosting Trees](#2)\n",
    "* [Random Forest](#3)\n",
    "* [Logistic Regression](#4)\n",
    "* [Feed Forward Neural Network](#5)\n",
    "* [1D - Convolutional Neural Network](#6)\n",
    "* [2D - Convolutional Neural Network](#7)"
   ]
  },
  {
   "cell_type": "code",
   "execution_count": 21,
   "metadata": {},
   "outputs": [],
   "source": [
    "from sklearn.model_selection import train_test_split\n",
    "from sklearn.naive_bayes import GaussianNB\n",
    "from sklearn.metrics import accuracy_score\n",
    "from sklearn.utils import check_X_y\n",
    "from sklearn.pipeline import Pipeline\n",
    "from sklearn.preprocessing import StandardScaler"
   ]
  },
  {
   "cell_type": "code",
   "execution_count": 22,
   "metadata": {},
   "outputs": [
    {
     "data": {
      "text/plain": [
       "(2703, 13)"
      ]
     },
     "execution_count": 22,
     "metadata": {},
     "output_type": "execute_result"
    }
   ],
   "source": [
    "dataset.shape"
   ]
  },
  {
   "cell_type": "code",
   "execution_count": 23,
   "metadata": {},
   "outputs": [
    {
     "data": {
      "text/plain": [
       "(2703, 1)"
      ]
     },
     "execution_count": 23,
     "metadata": {},
     "output_type": "execute_result"
    }
   ],
   "source": [
    "gender_labels.shape"
   ]
  },
  {
   "cell_type": "code",
   "execution_count": 24,
   "metadata": {},
   "outputs": [
    {
     "data": {
      "text/plain": [
       "1329.0"
      ]
     },
     "execution_count": 24,
     "metadata": {},
     "output_type": "execute_result"
    }
   ],
   "source": [
    "gender_labels.sum()"
   ]
  },
  {
   "cell_type": "markdown",
   "metadata": {},
   "source": [
    "Our dataset consists of **2703 speech audio signals**. 1329 of which corresponds to male speech (*49 %*)."
   ]
  },
  {
   "cell_type": "markdown",
   "metadata": {},
   "source": [
    "Split data into training set and test set"
   ]
  },
  {
   "cell_type": "code",
   "execution_count": 25,
   "metadata": {},
   "outputs": [],
   "source": [
    "seed = 1\n",
    "X_train, X_test, y_train, y_test = train_test_split(dataset, gender_labels, test_size=0.2, random_state=seed, stratify=gender_labels)"
   ]
  },
  {
   "cell_type": "markdown",
   "metadata": {},
   "source": [
    "Input validation"
   ]
  },
  {
   "cell_type": "code",
   "execution_count": 26,
   "metadata": {},
   "outputs": [],
   "source": [
    "X_train, y_train = check_X_y(X=X_train, y=y_train)\n",
    "X_test, y_test = check_X_y(X=X_test, y=y_test)"
   ]
  },
  {
   "cell_type": "markdown",
   "metadata": {},
   "source": [
    "We will tune eventual hyperparameters using a validation set"
   ]
  },
  {
   "cell_type": "code",
   "execution_count": 27,
   "metadata": {},
   "outputs": [],
   "source": [
    "X_train_train, X_train_val, y_train_train, y_train_val = train_test_split(X_train, y_train, test_size = 0.2, random_state = seed, stratify = y_train)"
   ]
  },
  {
   "cell_type": "markdown",
   "metadata": {},
   "source": [
    "<a id='1'></a>\n",
    "#### 3.1 Gaussian Naive Bayes"
   ]
  },
  {
   "cell_type": "code",
   "execution_count": 28,
   "metadata": {},
   "outputs": [
    {
     "name": "stdout",
     "output_type": "stream",
     "text": [
      "Gaussian Naive Bayes accuracy on test set: 0.833641404805915\n"
     ]
    }
   ],
   "source": [
    "# Define a gaussian naive bayes classifier pipeline\n",
    "\n",
    "estimators = []\n",
    "estimators.append(('standardizer', StandardScaler()))\n",
    "estimators.append(('gnb', GaussianNB()))\n",
    "\n",
    "pipeline_gnb = Pipeline(estimators)\n",
    "\n",
    "pipeline_gnb.fit(X_train, y_train)\n",
    "y_pred = pipeline_gnb.predict(X_test)\n",
    "\n",
    "score = accuracy_score(y_test, y_pred)\n",
    "print('Gaussian Naive Bayes accuracy on test set: {}'.format(score))"
   ]
  },
  {
   "cell_type": "markdown",
   "metadata": {},
   "source": [
    "<a id='2'></a>\n",
    "#### 3.2 Gradient Boosting Trees"
   ]
  },
  {
   "cell_type": "code",
   "execution_count": 29,
   "metadata": {},
   "outputs": [
    {
     "name": "stderr",
     "output_type": "stream",
     "text": [
      "100%|██████████| 20/20 [00:29<00:00,  1.45s/it]\n"
     ]
    },
    {
     "name": "stdout",
     "output_type": "stream",
     "text": [
      "best NS = 791 with accuracy : 0.9677\n",
      "GB classifier accuracy on test set: 0.9797\n"
     ]
    }
   ],
   "source": [
    "from sklearn.ensemble import GradientBoostingClassifier\n",
    "\n",
    "# Define a gradient boosting tree classifier pipeline\n",
    "estimators = []\n",
    "estimators.append(('gb_clf', GradientBoostingClassifier()))\n",
    "\n",
    "pipeline = Pipeline(estimators)\n",
    "pipeline.set_params(gb_clf__random_state = seed)\n",
    "    \n",
    "# Finding best value of n_estimators using validation set\n",
    "scores = []\n",
    "NSs = []\n",
    "for NS in tqdm([int(i) for i in np.linspace(10, 1000, 20)]):\n",
    "    pipeline.set_params(gb_clf__n_estimators = NS) \n",
    "    pipeline.fit(X_train_train,y_train_train)\n",
    "    y_train_pred = pipeline.predict(X_train_val)\n",
    "    scores.append(accuracy_score (y_train_val, y_train_pred))\n",
    "    NSs.append(NS)\n",
    "\n",
    "best_NS = NSs[scores.index(max(scores))]\n",
    "print ('best NS = %d with accuracy : %2.4f' %(best_NS, max(scores)))\n",
    "\n",
    "# Performance of the tuned model on test set\n",
    "pipeline.set_params(gb_clf__n_estimators = best_NS)\n",
    "pipeline.fit(X_train,y_train)\n",
    "y_pred_gb = pipeline.predict(X_test)\n",
    "score = accuracy_score(y_test, y_pred_gb)\n",
    "print ('GB classifier accuracy on test set: %2.4f' %score)"
   ]
  },
  {
   "cell_type": "markdown",
   "metadata": {},
   "source": [
    "<a id='3'></a>\n",
    "#### 3.3 Random Forest"
   ]
  },
  {
   "cell_type": "code",
   "execution_count": 30,
   "metadata": {},
   "outputs": [
    {
     "name": "stderr",
     "output_type": "stream",
     "text": [
      "100%|██████████| 20/20 [00:04<00:00,  4.20it/s]\n"
     ]
    },
    {
     "name": "stdout",
     "output_type": "stream",
     "text": [
      "best NS = 62 with accuracy : 0.9723\n",
      "Random forest classifer accuracy on test set : 0.9704\n"
     ]
    }
   ],
   "source": [
    "from sklearn.ensemble import RandomForestClassifier\n",
    "\n",
    "# Define a random forest classifier pipeline\n",
    "estimators = []\n",
    "estimators.append(('rf_clf', RandomForestClassifier()))\n",
    "pipeline_rf = Pipeline(estimators)\n",
    "pipeline_rf.set_params(rf_clf__random_state = seed)\n",
    "    \n",
    "# Finding best value of n_estimators using validation set\n",
    "scores = []\n",
    "NSs = []\n",
    "for NS in tqdm([int(i) for i in np.linspace(10, 100, 20)]):\n",
    "    pipeline_rf.set_params(rf_clf__n_estimators = NS) \n",
    "    pipeline_rf.fit(X_train_train,y_train_train)\n",
    "    y_train_pred = pipeline_rf.predict(X_train_val)\n",
    "    scores.append(accuracy_score(y_train_val, y_train_pred))\n",
    "    NSs.append(NS)\n",
    "\n",
    "best_NS = NSs[scores.index(max(scores))]\n",
    "print ('best NS = %d with accuracy : %2.4f' %(best_NS, max(scores)))\n",
    "\n",
    "# Performance of the tuned model on test set\n",
    "pipeline_rf.set_params(rf_clf__n_estimators = best_NS)\n",
    "pipeline_rf.fit(X_train,y_train)\n",
    "y_pred_rf = pipeline_rf.predict(X_test)\n",
    "score = accuracy_score(y_test, y_pred_rf)\n",
    "print ('Random forest classifer accuracy on test set : %2.4f' %score)"
   ]
  },
  {
   "cell_type": "markdown",
   "metadata": {},
   "source": [
    "**Note that there is no need to standardize nor normalize features for decision tree based models, since there are based on a collection of partition rules.** "
   ]
  },
  {
   "cell_type": "markdown",
   "metadata": {},
   "source": [
    "<a id='4'></a>\n",
    "#### 3.4 Logistic Regression"
   ]
  },
  {
   "cell_type": "code",
   "execution_count": 31,
   "metadata": {},
   "outputs": [
    {
     "name": "stderr",
     "output_type": "stream",
     "text": [
      "100%|██████████| 100/100 [00:00<00:00, 154.67it/s]"
     ]
    },
    {
     "name": "stdout",
     "output_type": "stream",
     "text": [
      "best C = 10.2353 with accuracy : 0.8383\n",
      "l2-Logistic regression classifer accuracy on test set : 0.868762\n"
     ]
    },
    {
     "name": "stderr",
     "output_type": "stream",
     "text": [
      "\n"
     ]
    }
   ],
   "source": [
    "from sklearn.linear_model import LogisticRegression\n",
    "from sklearn.preprocessing import MinMaxScaler\n",
    "\n",
    "#  features and classifier in a single pipeline\n",
    "estimators = []\n",
    "estimators.append(('minmax', MinMaxScaler(feature_range=(0,1))))\n",
    "estimators.append(('lr_clf', LogisticRegression(random_state = seed)))\n",
    "pipeline_lr = Pipeline(estimators)\n",
    "pipeline_lr.set_params(lr_clf__penalty='l2')\n",
    "\n",
    "# Finding best value of C using validation set\n",
    "scores = []\n",
    "Cs = []\n",
    "for C in tqdm(np.logspace(0, 2.5, 100)):\n",
    "    pipeline_lr.set_params(lr_clf__C=C) \n",
    "    pipeline_lr.fit(X_train_train,y_train_train)\n",
    "    y_train_pred = pipeline_lr.predict(X_train_val)\n",
    "    scores.append(accuracy_score(y_train_val, y_train_pred))\n",
    "    Cs.append(C)\n",
    "\n",
    "best_C_l2 = Cs[scores.index(max(scores))]\n",
    "print ('best C = %2.4f with accuracy : %2.4f' %(best_C_l2, max(scores)))\n",
    "\n",
    "# Performance of the tuned model on test set\n",
    "pipeline_lr.set_params(lr_clf__C=best_C_l2)\n",
    "pipeline_lr.fit(X_train,y_train)\n",
    "y_pred_lrRl2 = pipeline_lr.predict(X_test)\n",
    "score = accuracy_score(y_test, y_pred_lrRl2)\n",
    "print ('l2-Logistic regression classifer accuracy on test set : %2.6f' %score)"
   ]
  },
  {
   "cell_type": "markdown",
   "metadata": {},
   "source": [
    "<a id='5'></a>\n",
    "#### 3.5 Feed Forward Neural Network"
   ]
  },
  {
   "cell_type": "code",
   "execution_count": 32,
   "metadata": {},
   "outputs": [
    {
     "name": "stderr",
     "output_type": "stream",
     "text": [
      "Using TensorFlow backend.\n"
     ]
    }
   ],
   "source": [
    "import tensorflow as tf\n",
    "from keras.models import Sequential\n",
    "from keras.layers import Dense, Dropout\n",
    "from keras.utils import np_utils\n",
    "from keras.callbacks import Callback, EarlyStopping"
   ]
  },
  {
   "cell_type": "code",
   "execution_count": 33,
   "metadata": {},
   "outputs": [],
   "source": [
    "# build neural network model\n",
    "def create_model():\n",
    "    # create model\n",
    "    model = Sequential()\n",
    "    model.add(Dense(32, input_dim=dataset.shape[1], activation='relu'))\n",
    "    model.add(Dense(16, activation='relu'))\n",
    "    model.add(Dense(1, activation='sigmoid'))\n",
    "    # Compile model\n",
    "    model.compile(loss='binary_crossentropy', optimizer='adam', metrics=['accuracy'])\n",
    "    return model"
   ]
  },
  {
   "cell_type": "code",
   "execution_count": 34,
   "metadata": {},
   "outputs": [
    {
     "name": "stdout",
     "output_type": "stream",
     "text": [
      "_________________________________________________________________\n",
      "Layer (type)                 Output Shape              Param #   \n",
      "=================================================================\n",
      "dense_1 (Dense)              (None, 32)                448       \n",
      "_________________________________________________________________\n",
      "dense_2 (Dense)              (None, 16)                528       \n",
      "_________________________________________________________________\n",
      "dense_3 (Dense)              (None, 1)                 17        \n",
      "=================================================================\n",
      "Total params: 993\n",
      "Trainable params: 993\n",
      "Non-trainable params: 0\n",
      "_________________________________________________________________\n"
     ]
    }
   ],
   "source": [
    "model = create_model()\n",
    "model.summary()"
   ]
  },
  {
   "cell_type": "code",
   "execution_count": 35,
   "metadata": {},
   "outputs": [
    {
     "name": "stdout",
     "output_type": "stream",
     "text": [
      "Train on 1729 samples, validate on 433 samples\n",
      "Epoch 1/17\n",
      "1729/1729 [==============================] - 1s 292us/step - loss: 0.6583 - acc: 0.7340 - val_loss: 0.3236 - val_acc: 0.8499\n",
      "Epoch 2/17\n",
      "1729/1729 [==============================] - 0s 69us/step - loss: 0.2991 - acc: 0.8699 - val_loss: 0.2326 - val_acc: 0.9076\n",
      "Epoch 3/17\n",
      "1729/1729 [==============================] - 0s 70us/step - loss: 0.2529 - acc: 0.8994 - val_loss: 0.2073 - val_acc: 0.9192\n",
      "Epoch 4/17\n",
      "1729/1729 [==============================] - 0s 69us/step - loss: 0.2103 - acc: 0.9161 - val_loss: 0.1804 - val_acc: 0.9215\n",
      "Epoch 5/17\n",
      "1729/1729 [==============================] - 0s 68us/step - loss: 0.1824 - acc: 0.9283 - val_loss: 0.1558 - val_acc: 0.9423\n",
      "Epoch 6/17\n",
      "1729/1729 [==============================] - 0s 70us/step - loss: 0.1717 - acc: 0.9329 - val_loss: 0.1488 - val_acc: 0.9446\n",
      "Epoch 7/17\n",
      "1729/1729 [==============================] - 0s 70us/step - loss: 0.1543 - acc: 0.9456 - val_loss: 0.1481 - val_acc: 0.9400\n",
      "Epoch 8/17\n",
      "1729/1729 [==============================] - 0s 76us/step - loss: 0.1455 - acc: 0.9445 - val_loss: 0.1178 - val_acc: 0.9538\n",
      "Epoch 9/17\n",
      "1729/1729 [==============================] - 0s 74us/step - loss: 0.1353 - acc: 0.9491 - val_loss: 0.1302 - val_acc: 0.9400\n",
      "Epoch 10/17\n",
      "1729/1729 [==============================] - 0s 72us/step - loss: 0.1328 - acc: 0.9479 - val_loss: 0.1075 - val_acc: 0.9607\n",
      "Epoch 11/17\n",
      "1729/1729 [==============================] - 0s 74us/step - loss: 0.1215 - acc: 0.9555 - val_loss: 0.1199 - val_acc: 0.9607\n",
      "Epoch 12/17\n",
      "1729/1729 [==============================] - 0s 72us/step - loss: 0.1098 - acc: 0.9607 - val_loss: 0.0978 - val_acc: 0.9654\n",
      "Epoch 13/17\n",
      "1729/1729 [==============================] - 0s 71us/step - loss: 0.1052 - acc: 0.9595 - val_loss: 0.0932 - val_acc: 0.9630\n",
      "Epoch 14/17\n",
      "1729/1729 [==============================] - 0s 70us/step - loss: 0.1014 - acc: 0.9641 - val_loss: 0.0751 - val_acc: 0.9815\n",
      "Epoch 15/17\n",
      "1729/1729 [==============================] - 0s 70us/step - loss: 0.0930 - acc: 0.9659 - val_loss: 0.0799 - val_acc: 0.9723\n",
      "Epoch 16/17\n",
      "1729/1729 [==============================] - 0s 70us/step - loss: 0.0874 - acc: 0.9705 - val_loss: 0.0732 - val_acc: 0.9746\n",
      "Epoch 17/17\n",
      "1729/1729 [==============================] - 0s 71us/step - loss: 0.0876 - acc: 0.9688 - val_loss: 0.0827 - val_acc: 0.9654\n"
     ]
    },
    {
     "data": {
      "text/plain": [
       "<keras.callbacks.History at 0x1c31666128>"
      ]
     },
     "execution_count": 35,
     "metadata": {},
     "output_type": "execute_result"
    }
   ],
   "source": [
    "model.fit(X_train, y_train, batch_size=20, epochs=17, verbose=1, validation_split=0.2)"
   ]
  },
  {
   "cell_type": "code",
   "execution_count": 36,
   "metadata": {},
   "outputs": [
    {
     "name": "stdout",
     "output_type": "stream",
     "text": [
      "Feed Forward Neural Network accuracy on test set : 0.953789\n"
     ]
    }
   ],
   "source": [
    "y_pred_ffnn = model.predict_classes(X_test)\n",
    "score = accuracy_score(y_test, y_pred_ffnn)\n",
    "print ('Feed Forward Neural Network accuracy on test set : %2.6f' %score)"
   ]
  },
  {
   "cell_type": "markdown",
   "metadata": {},
   "source": [
    "<a id='6'></a>\n",
    "#### 3.6 1D - Convolutional Neural Network"
   ]
  },
  {
   "cell_type": "markdown",
   "metadata": {},
   "source": [
    "In this section we implement a standard 1D CNN that consistst of one layer of several 1D convolutions (32 filters each of size 10), a Pooling layer, a Dropout layer and finally a Fully Connected layer."
   ]
  },
  {
   "cell_type": "code",
   "execution_count": 37,
   "metadata": {},
   "outputs": [],
   "source": [
    "from keras.layers import Dense, Conv1D, GlobalMaxPool1D, Dropout"
   ]
  },
  {
   "cell_type": "code",
   "execution_count": 38,
   "metadata": {},
   "outputs": [],
   "source": [
    "def create_cnn_model():\n",
    "    model = Sequential()\n",
    "    model.add(Conv1D(32,10, activation='relu', input_shape=(13, 1)))\n",
    "    model.add(GlobalMaxPool1D())\n",
    "    model.add(Dropout(0.1))\n",
    "    model.add(Dense(1,activation='sigmoid'))\n",
    "    \n",
    "    model.compile(loss='binary_crossentropy', optimizer='adam', metrics=['accuracy'])\n",
    "    print(model.summary())\n",
    "    return model"
   ]
  },
  {
   "cell_type": "code",
   "execution_count": 39,
   "metadata": {},
   "outputs": [],
   "source": [
    "num_samples, num_features = dataset.shape\n",
    "X_train, X_test, y_train, y_test = train_test_split(dataset.reshape(num_samples, num_features,1) , gender_labels, test_size=0.2, random_state=seed, stratify=gender_labels)"
   ]
  },
  {
   "cell_type": "code",
   "execution_count": 40,
   "metadata": {},
   "outputs": [
    {
     "name": "stdout",
     "output_type": "stream",
     "text": [
      "_________________________________________________________________\n",
      "Layer (type)                 Output Shape              Param #   \n",
      "=================================================================\n",
      "conv1d_1 (Conv1D)            (None, 4, 32)             352       \n",
      "_________________________________________________________________\n",
      "global_max_pooling1d_1 (Glob (None, 32)                0         \n",
      "_________________________________________________________________\n",
      "dropout_1 (Dropout)          (None, 32)                0         \n",
      "_________________________________________________________________\n",
      "dense_4 (Dense)              (None, 1)                 33        \n",
      "=================================================================\n",
      "Total params: 385\n",
      "Trainable params: 385\n",
      "Non-trainable params: 0\n",
      "_________________________________________________________________\n",
      "None\n",
      "Train on 1729 samples, validate on 433 samples\n",
      "Epoch 1/15\n",
      "1729/1729 [==============================] - 1s 490us/step - loss: 0.9004 - acc: 0.6032 - val_loss: 0.3340 - val_acc: 0.8522\n",
      "Epoch 2/15\n",
      "1729/1729 [==============================] - 0s 142us/step - loss: 0.4663 - acc: 0.7779 - val_loss: 0.2649 - val_acc: 0.8868\n",
      "Epoch 3/15\n",
      "1729/1729 [==============================] - 0s 193us/step - loss: 0.3593 - acc: 0.8357 - val_loss: 0.2390 - val_acc: 0.8915\n",
      "Epoch 4/15\n",
      "1729/1729 [==============================] - 0s 144us/step - loss: 0.3118 - acc: 0.8658 - val_loss: 0.2253 - val_acc: 0.9076\n",
      "Epoch 5/15\n",
      "1729/1729 [==============================] - 0s 95us/step - loss: 0.2728 - acc: 0.8809 - val_loss: 0.2144 - val_acc: 0.9169\n",
      "Epoch 6/15\n",
      "1729/1729 [==============================] - 0s 94us/step - loss: 0.2554 - acc: 0.8872 - val_loss: 0.1999 - val_acc: 0.9238\n",
      "Epoch 7/15\n",
      "1729/1729 [==============================] - 0s 94us/step - loss: 0.2274 - acc: 0.9023 - val_loss: 0.1892 - val_acc: 0.9284\n",
      "Epoch 8/15\n",
      "1729/1729 [==============================] - 0s 96us/step - loss: 0.2166 - acc: 0.9069 - val_loss: 0.1889 - val_acc: 0.9307\n",
      "Epoch 9/15\n",
      "1729/1729 [==============================] - 0s 97us/step - loss: 0.2119 - acc: 0.9138 - val_loss: 0.1848 - val_acc: 0.9330\n",
      "Epoch 10/15\n",
      "1729/1729 [==============================] - 0s 97us/step - loss: 0.2049 - acc: 0.9132 - val_loss: 0.1748 - val_acc: 0.9376\n",
      "Epoch 11/15\n",
      "1729/1729 [==============================] - 0s 189us/step - loss: 0.1971 - acc: 0.9196 - val_loss: 0.1788 - val_acc: 0.9353\n",
      "Epoch 12/15\n",
      "1729/1729 [==============================] - 0s 174us/step - loss: 0.1840 - acc: 0.9289 - val_loss: 0.1708 - val_acc: 0.9376\n",
      "Epoch 13/15\n",
      "1729/1729 [==============================] - 0s 169us/step - loss: 0.1886 - acc: 0.9248 - val_loss: 0.1709 - val_acc: 0.9353\n",
      "Epoch 14/15\n",
      "1729/1729 [==============================] - 0s 147us/step - loss: 0.1767 - acc: 0.9306 - val_loss: 0.1609 - val_acc: 0.9400\n",
      "Epoch 15/15\n",
      "1729/1729 [==============================] - 0s 144us/step - loss: 0.1809 - acc: 0.9329 - val_loss: 0.1570 - val_acc: 0.9492\n"
     ]
    },
    {
     "data": {
      "text/plain": [
       "<keras.callbacks.History at 0x1c31a77160>"
      ]
     },
     "execution_count": 40,
     "metadata": {},
     "output_type": "execute_result"
    }
   ],
   "source": [
    "model = create_cnn_model()\n",
    "model.fit(X_train, y_train, batch_size=20, epochs=15, verbose=1, validation_split=0.2)"
   ]
  },
  {
   "cell_type": "code",
   "execution_count": 41,
   "metadata": {},
   "outputs": [
    {
     "name": "stdout",
     "output_type": "stream",
     "text": [
      "1D CNN accuracy on test set : 0.946396\n"
     ]
    }
   ],
   "source": [
    "y_pred_1dcnn = model.predict_classes(X_test)\n",
    "score = accuracy_score(y_test, y_pred_1dcnn)\n",
    "print ('1D CNN accuracy on test set : %2.6f' %score)"
   ]
  },
  {
   "cell_type": "markdown",
   "metadata": {},
   "source": [
    "<a id='7'></a>\n",
    "#### 3.7 2D - Convolutional Neural Network"
   ]
  },
  {
   "cell_type": "markdown",
   "metadata": {},
   "source": [
    "We implement in this a section a CNN to classify spectrograms as coming from a Male or Female. Spectrograms represent the variation of frequency over time. We know that women have a high pitched voice compared to men. Thus when looking at a spectrogram of woman we should be able to see more component on high frequencies compared to a man's spectrogram. This is the observation we would hope our CNN model could learn, to classify correctly the images."
   ]
  },
  {
   "cell_type": "code",
   "execution_count": 42,
   "metadata": {},
   "outputs": [],
   "source": [
    "from keras.layers import Conv2D, Flatten\n",
    "import librosa.display"
   ]
  },
  {
   "cell_type": "markdown",
   "metadata": {},
   "source": [
    "**Compute spectrograms**"
   ]
  },
  {
   "cell_type": "code",
   "execution_count": 43,
   "metadata": {},
   "outputs": [
    {
     "name": "stderr",
     "output_type": "stream",
     "text": [
      "100%|██████████| 2703/2703 [00:58<00:00, 46.47it/s]\n"
     ]
    }
   ],
   "source": [
    "spectrograms = []\n",
    "gender_labels = np.ndarray(shape=(0,1))\n",
    "\n",
    "for filename in tqdm(files):\n",
    "    signal, fs = soundfile.read(filename)\n",
    "    S = librosa.feature.melspectrogram(signal, sr=fs)\n",
    "    spectrograms.append(librosa.power_to_db(S,ref=np.max))\n",
    "\n",
    "    speaker_id = filename.split('/dev-clean/')[1].split('/')[0]\n",
    "    gender = id_gender_mapping[ id_gender_mapping['ID'] == int(speaker_id) ]['SEX'].iloc[0]\n",
    "    gender_labels= np.append(gender_labels, np.array(gender).reshape(-1,1), axis=0)"
   ]
  },
  {
   "cell_type": "markdown",
   "metadata": {},
   "source": [
    "Keep only spectrograms with enough samples (sufficiently long audio samples). We zip up everything to keep track of the mapping gender label <-> spectrogram."
   ]
  },
  {
   "cell_type": "code",
   "execution_count": 44,
   "metadata": {},
   "outputs": [],
   "source": [
    "cut_off_t = 120\n",
    "new_spectrograms = zip(spectrograms, gender_labels)\n",
    "new_spectrograms = list(filter(lambda x: x[0].shape[1] > cut_off_t, new_spectrograms ))"
   ]
  },
  {
   "cell_type": "code",
   "execution_count": 45,
   "metadata": {},
   "outputs": [],
   "source": [
    "images, gender_labels = zip(*new_spectrograms) \n",
    "images = list(images)\n",
    "gender_labels = list(gender_labels)"
   ]
  },
  {
   "cell_type": "code",
   "execution_count": 46,
   "metadata": {},
   "outputs": [
    {
     "data": {
      "text/plain": [
       "1998"
      ]
     },
     "execution_count": 46,
     "metadata": {},
     "output_type": "execute_result"
    }
   ],
   "source": [
    "len(images)"
   ]
  },
  {
   "cell_type": "code",
   "execution_count": 47,
   "metadata": {},
   "outputs": [
    {
     "data": {
      "text/plain": [
       "1998"
      ]
     },
     "execution_count": 47,
     "metadata": {},
     "output_type": "execute_result"
    }
   ],
   "source": [
    "len(gender_labels)"
   ]
  },
  {
   "cell_type": "code",
   "execution_count": 48,
   "metadata": {},
   "outputs": [],
   "source": [
    "# Get an example of a man's spectrogram\n",
    "male_spectrogram = images[gender_labels.index(1)] "
   ]
  },
  {
   "cell_type": "markdown",
   "metadata": {},
   "source": [
    "**Example of a man's spectrogram**"
   ]
  },
  {
   "cell_type": "code",
   "execution_count": 49,
   "metadata": {},
   "outputs": [
    {
     "data": {
      "image/png": "[encoded data removed]",
      "text/plain": [
       "<matplotlib.figure.Figure at 0x1c22427f60>"
      ]
     },
     "metadata": {},
     "output_type": "display_data"
    }
   ],
   "source": [
    "plt.figure(figsize=(10, 4))\n",
    "librosa.display.specshow(male_spectrogram, y_axis='mel', fmax=8000, x_axis='time')\n",
    "plt.colorbar(format='%+2.0f dB')\n",
    "plt.title('Spectrogram')\n",
    "plt.tight_layout()"
   ]
  },
  {
   "cell_type": "markdown",
   "metadata": {},
   "source": [
    "Note that _images_ doesn't have the same shape, however our CNN model expects to have images with a fixed dimension. We will crop all images to the smallest shape (time axis).\n",
    "Also, all images have the same length on the frequency axis"
   ]
  },
  {
   "cell_type": "code",
   "execution_count": 50,
   "metadata": {},
   "outputs": [],
   "source": [
    "min_t = min(images, key=lambda x: x.shape[1]).shape[1]"
   ]
  },
  {
   "cell_type": "code",
   "execution_count": 51,
   "metadata": {},
   "outputs": [],
   "source": [
    "images = list(map(lambda x: x[:,-min_t:].reshape(x.shape[0], min_t, 1), images))"
   ]
  },
  {
   "cell_type": "markdown",
   "metadata": {},
   "source": [
    "Sanity check"
   ]
  },
  {
   "cell_type": "code",
   "execution_count": 52,
   "metadata": {},
   "outputs": [
    {
     "data": {
      "text/plain": [
       "0"
      ]
     },
     "execution_count": 52,
     "metadata": {},
     "output_type": "execute_result"
    }
   ],
   "source": [
    "len(list(filter(lambda x: x.shape[1] != min_t, images )))"
   ]
  },
  {
   "cell_type": "code",
   "execution_count": 53,
   "metadata": {},
   "outputs": [
    {
     "data": {
      "text/plain": [
       "(128, 121, 1)"
      ]
     },
     "execution_count": 53,
     "metadata": {},
     "output_type": "execute_result"
    }
   ],
   "source": [
    "images[0].shape"
   ]
  },
  {
   "cell_type": "markdown",
   "metadata": {},
   "source": [
    "We will use a simple CNN network that consists of 2 convolutional layers followed by fully connected layer."
   ]
  },
  {
   "cell_type": "code",
   "execution_count": 54,
   "metadata": {},
   "outputs": [],
   "source": [
    "def create_model_cnn():\n",
    "    model = Sequential()\n",
    "    model.add(Conv2D(64, kernel_size=(3,3), activation='relu', input_shape=(128, 121, 1)))\n",
    "    model.add(Conv2D(32, kernel_size=(3,3), activation='relu'))\n",
    "    model.add(Flatten())\n",
    "    model.add(Dense(1, activation='sigmoid'))\n",
    "    # Compile model\n",
    "    model.compile(loss='binary_crossentropy', optimizer='adam', metrics=['accuracy'])\n",
    "    return model"
   ]
  },
  {
   "cell_type": "code",
   "execution_count": 55,
   "metadata": {},
   "outputs": [],
   "source": [
    "X_train, X_test, y_train, y_test = train_test_split(np.array(images), np.array(gender_labels), test_size=0.2, random_state=seed, stratify=gender_labels)"
   ]
  },
  {
   "cell_type": "code",
   "execution_count": 56,
   "metadata": {},
   "outputs": [
    {
     "name": "stdout",
     "output_type": "stream",
     "text": [
      "Train on 1278 samples, validate on 320 samples\n",
      "Epoch 1/2\n",
      "1278/1278 [==============================] - 96s 75ms/step - loss: 8.1181 - acc: 0.4930 - val_loss: 7.2028 - val_acc: 0.5531\n",
      "Epoch 2/2\n",
      "1278/1278 [==============================] - 94s 73ms/step - loss: 8.1473 - acc: 0.4945 - val_loss: 7.2028 - val_acc: 0.5531\n"
     ]
    },
    {
     "data": {
      "text/plain": [
       "<keras.callbacks.History at 0x1c61084a90>"
      ]
     },
     "execution_count": 56,
     "metadata": {},
     "output_type": "execute_result"
    }
   ],
   "source": [
    "model = create_model_cnn()\n",
    "model.fit(X_train, y_train, batch_size=20, epochs=2, verbose=1, validation_split=0.2)"
   ]
  },
  {
   "cell_type": "code",
   "execution_count": 57,
   "metadata": {},
   "outputs": [
    {
     "name": "stdout",
     "output_type": "stream",
     "text": [
      "2D CNN accuracy on test set : 0.507500\n"
     ]
    }
   ],
   "source": [
    "y_pred = model.predict_classes(np.array(X_test))\n",
    "score = accuracy_score(y_test, y_pred)\n",
    "print ('2D CNN accuracy on test set : %2.6f' %score)"
   ]
  },
  {
   "cell_type": "markdown",
   "metadata": {},
   "source": [
    "<a id='IV'></a>\n",
    "### 4. Results"
   ]
  },
  {
   "cell_type": "code",
   "execution_count": 58,
   "metadata": {},
   "outputs": [
    {
     "data": {
      "text/html": [
       "<style>\n",
       "table {float:left}\n",
       "</style>"
      ],
      "text/plain": [
       "<IPython.core.display.HTML object>"
      ]
     },
     "metadata": {},
     "output_type": "display_data"
    }
   ],
   "source": [
    "%%html\n",
    "<style>\n",
    "table {float:left}\n",
    "</style>"
   ]
  },
  {
   "cell_type": "markdown",
   "metadata": {},
   "source": [
    "|               Model               | Accuracy Score |\n",
    "|:---------------------------------:|:--------------:|\n",
    "|      Gradient Boosting Trees      |     0.9797     |\n",
    "|           Random Forest           |     0.9704     |\n",
    "|    Feed Forward Neural Network    |     0.9538     |\n",
    "| 1D - Convolutional Neural Network |     0.9464     |\n",
    "|        Logistic Regression        |     0.8688     |\n",
    "|        Gaussian Naive Bayes       |     0.8336     |\n",
    "| 2D - Convolutional Neural Network |     0.5075     |\n"
   ]
  },
  {
   "cell_type": "markdown",
   "metadata": {},
   "source": [
    "<a id='V'></a>\n",
    "### 5. Discussion"
   ]
  },
  {
   "cell_type": "markdown",
   "metadata": {},
   "source": [
    "* We observe that the 2D CNN model perform the worst. Even random guessing could beat the model. This is because the axes of spectrograms don't carry the same meaning as regular images of cats or dogs for instance.\n",
    "* Decision tree based models performs the best. This is because among the MFCC features some are highly related to the gender of the speaker hence making the decision rules straightforward and robust.\n",
    "* The 1D CNN and FFNN have great performances and eventually with hyperparameters tuning (i.e experimenting with several architectures) can perform better than the decision tree based models.\n",
    "* Further work to improve the performances could be to implement a stacking of the best models. This stacking could be linear or even decision tree based itself.\n",
    "* We didn't use feature engineering nor feature reduction techniques in this assignment since the MFCC features represents already a great feature space for our task. Indeed, they capture all the necessary propreties of speech signal to perform an accurate prediction on the gender of the speaker."
   ]
  }
 ],
 "metadata": {
  "kernelspec": {
   "display_name": "Python 3",
   "language": "python",
   "name": "python3"
  },
  "language_info": {
   "codemirror_mode": {
    "name": "ipython",
    "version": 3
   },
   "file_extension": ".py",
   "mimetype": "text/x-python",
   "name": "python",
   "nbconvert_exporter": "python",
   "pygments_lexer": "ipython3",
   "version": "3.6.4"
  }
 },
 "nbformat": 4,
 "nbformat_minor": 2
}
